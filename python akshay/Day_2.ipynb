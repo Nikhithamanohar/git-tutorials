{
 "cells": [
  {
   "cell_type": "markdown",
   "id": "d5b259fe",
   "metadata": {},
   "source": [
    "# Day-2"
   ]
  },
  {
   "cell_type": "raw",
   "id": "2550b44e",
   "metadata": {},
   "source": [
    "Lets now see day_2 classes in day_1 we have covered variable and little strings topics now lets see strings today"
   ]
  },
  {
   "cell_type": "markdown",
   "id": "330c50cb",
   "metadata": {},
   "source": [
    "# Strings"
   ]
  },
  {
   "cell_type": "code",
   "execution_count": 1,
   "id": "7bca7358",
   "metadata": {},
   "outputs": [
    {
     "name": "stdout",
     "output_type": "stream",
     "text": [
      "<class 'str'>\n",
      "<class 'str'>\n"
     ]
    }
   ],
   "source": [
    "# To create string we use (\"\") or ('') single or double lets create now string example\n",
    "\n",
    "a=\"akshay\"\n",
    "b='kumar'\n",
    "print(type(a)) # Now lets check this data type whether string or not\n",
    "print(type(b)) # Now lets check this data type whether string or not"
   ]
  },
  {
   "cell_type": "markdown",
   "id": "a11971e6",
   "metadata": {},
   "source": [
    "# Strings are Arrays"
   ]
  },
  {
   "cell_type": "raw",
   "id": "043b55f7",
   "metadata": {},
   "source": [
    "Like many other popular programming languages, strings in Python are arrays of bytes representing unicode characters.\n",
    "\n",
    "However, Python does not have a character data type, a single character is simply a string with a length of 1.\n",
    "\n",
    "Square brackets can be used to access elements of the string."
   ]
  },
  {
   "cell_type": "code",
   "execution_count": 1,
   "id": "fb18f7bf",
   "metadata": {},
   "outputs": [
    {
     "name": "stdout",
     "output_type": "stream",
     "text": [
      "e\n"
     ]
    }
   ],
   "source": [
    "a = \"Hello World!\"\n",
    "print(a[1]) # If u want access indexing of the text use squarebrackets"
   ]
  },
  {
   "cell_type": "raw",
   "id": "3eba9482",
   "metadata": {},
   "source": [
    "How Index of Array works lets see\n",
    "\n",
    "h  e  l  l  o  w  o  r   l   d\n",
    "0  1  2  3  4  5  6  7   8   9\n",
    "\n",
    "in this way basically indexing is starting for a string hello world soo in above example we have choosen \n",
    "\n",
    "-->At index number 1 so we got output (e).\n",
    "-->Basically indexing start from 0 to n.\n"
   ]
  },
  {
   "cell_type": "code",
   "execution_count": 2,
   "id": "cc5cdf53",
   "metadata": {},
   "outputs": [
    {
     "name": "stdout",
     "output_type": "stream",
     "text": [
      "12\n"
     ]
    }
   ],
   "source": [
    "# lets use len fuction now to know length of the strings\n",
    "\n",
    "c=\"Akshay Kumar\"\n",
    "print(len(c)) # we have used len function to know the string length. note:- space also count the length as 1 size."
   ]
  },
  {
   "cell_type": "markdown",
   "id": "2c9dbeb9",
   "metadata": {},
   "source": [
    "# Format Method"
   ]
  },
  {
   "cell_type": "markdown",
   "id": "024ba6c5",
   "metadata": {},
   "source": [
    "Format method is used for string shortcut calling fuction example lets see how to use format method  "
   ]
  },
  {
   "cell_type": "code",
   "execution_count": 5,
   "id": "77bba51d",
   "metadata": {},
   "outputs": [
    {
     "name": "stdout",
     "output_type": "stream",
     "text": [
      "hello this my firstname Akshay and lastname is Kumar\n"
     ]
    }
   ],
   "source": [
    "# 1.Example:-\n",
    "\n",
    "a=\"Akshay\"\n",
    "b=\"Kumar\"\n",
    "\n",
    "#Explaination:-\n",
    "# In this we have used f at start because format method is used and we have used {} to call the variable value we have assigned.\n",
    "\n",
    "print(f\"hello this my firstname {a} and lastname is {b}\") "
   ]
  },
  {
   "cell_type": "code",
   "execution_count": 10,
   "id": "324e86a3",
   "metadata": {},
   "outputs": [
    {
     "name": "stdout",
     "output_type": "stream",
     "text": [
      "hello this Akshay Kumar\n"
     ]
    }
   ],
   "source": [
    "# 2.Example:-\n",
    "\n",
    "a=\"Akshay Kumar\"\n",
    "\n",
    "print(\"hello this {}\".format(a))"
   ]
  },
  {
   "cell_type": "code",
   "execution_count": 11,
   "id": "49a63a41",
   "metadata": {},
   "outputs": [
    {
     "name": "stdout",
     "output_type": "stream",
     "text": [
      "I want 3 pieces of item 567 for 49.95 dollars.\n"
     ]
    }
   ],
   "source": [
    "# 3. Example:-\n",
    "quantity = 3\n",
    "itemno = 567\n",
    "price = 49.95\n",
    "myorder = \"I want {} pieces of item {} for {} dollars.\"\n",
    "print(myorder.format(quantity, itemno, price))"
   ]
  },
  {
   "cell_type": "code",
   "execution_count": 12,
   "id": "fafadac3",
   "metadata": {},
   "outputs": [
    {
     "name": "stdout",
     "output_type": "stream",
     "text": [
      "I want 567 pieces of item 3 for 49.95 dollars.\n"
     ]
    }
   ],
   "source": [
    "# 3.2.Example:-\n",
    "\n",
    "'''\n",
    "Actually in above example it default taken 0 index \n",
    "actually we can also take index on our own choice like \n",
    "   indexing references:-\n",
    "                            1. 0-->quantity\n",
    "                            2. 1-->itemno\n",
    "                            3. 2-->price\n",
    "    \n",
    "now lets use different idexing number and check this example below\n",
    "'''\n",
    "\n",
    "quantity = 3\n",
    "itemno = 567\n",
    "price = 49.95\n",
    "myorder = \"I want {1} pieces of item {0} for {2} dollars.\"\n",
    "\n",
    "print(myorder.format(quantity, itemno, price))   "
   ]
  },
  {
   "cell_type": "markdown",
   "id": "62419709",
   "metadata": {},
   "source": [
    "# Slicing Strings"
   ]
  },
  {
   "cell_type": "raw",
   "id": "7b5f28dc",
   "metadata": {},
   "source": [
    "Specify the start index and the end index, separated by a colon, to return a part of the string \n",
    "\n",
    "-->In simple we access indexing with this slicing and we acess."
   ]
  },
  {
   "cell_type": "code",
   "execution_count": 13,
   "id": "f91ac6bb",
   "metadata": {},
   "outputs": [
    {
     "name": "stdout",
     "output_type": "stream",
     "text": [
      "Akshay\n"
     ]
    }
   ],
   "source": [
    "g=\"Akshay\"\n",
    "print(g[0:])"
   ]
  },
  {
   "cell_type": "code",
   "execution_count": 14,
   "id": "47cc9d7f",
   "metadata": {},
   "outputs": [
    {
     "name": "stdout",
     "output_type": "stream",
     "text": [
      "Aks\n"
     ]
    }
   ],
   "source": [
    "g=\"Akshay\"\n",
    "print(g[0:3]) # -->[0:3] 0 is default end i am ending at index"
   ]
  },
  {
   "cell_type": "code",
   "execution_count": 1,
   "id": "399838f1",
   "metadata": {},
   "outputs": [
    {
     "name": "stdout",
     "output_type": "stream",
     "text": [
      "Aks\n"
     ]
    }
   ],
   "source": [
    "'''\n",
    "now let me explain you more easy and in simple\n",
    "\n",
    "\n",
    "as we know indexing start from 0 to n\n",
    "\n",
    "so for our example:-\n",
    "\n",
    "A  k  s  h  a  y\n",
    "0  1  2  3  4  5\n",
    "\n",
    "-->so this indexing \n",
    "\n",
    "now let access them by [] using this\n",
    "\n",
    "--> when we want to access s use [2] to get output s\n",
    "--> Instead of putting single number we can use colon like this to access \n",
    "--> how many elements indexing you want \n",
    "         syntax:-  \n",
    "                     print(a[enter starting indexing number: enter your required indexing number])\n",
    "                     \n",
    "                     example:- a=\"akshay\"\n",
    "                               print(a[0:3]) # soo i want accessit till index 3 only ie till h only \n",
    "                               \n",
    "                               \n",
    "                               \n",
    "                               \n",
    "                Hint:- \n",
    "                       if u leave last indexing number empty it will print to n number of your variable assigned\n",
    "                       \n",
    "                       Example:- a=\"akshay\"\n",
    "                                 print(a[1:]) # in this i have started from index 1 (k) and asked to print till end letter(y)\n",
    "\n",
    "now lets solve this\n",
    "\n",
    "'''\n",
    "\n",
    "# Example 1:-\n",
    "   \n",
    "    \n",
    "a=\"Akshay\"\n",
    "print(a[0:3]) # i am just accessing only till 3rd index"
   ]
  },
  {
   "cell_type": "code",
   "execution_count": 2,
   "id": "afe2ef9e",
   "metadata": {},
   "outputs": [
    {
     "name": "stdout",
     "output_type": "stream",
     "text": [
      "kshay\n"
     ]
    }
   ],
   "source": [
    "# Example 2:-\n",
    "\n",
    "a=\"Akshay\"\n",
    "print(a[1:]) # i am starting from 1st index that is K and Ending at last index default at y."
   ]
  },
  {
   "cell_type": "markdown",
   "id": "73d3f620",
   "metadata": {},
   "source": [
    "# Type Casting"
   ]
  },
  {
   "cell_type": "code",
   "execution_count": 6,
   "id": "990d2d37",
   "metadata": {},
   "outputs": [
    {
     "name": "stdout",
     "output_type": "stream",
     "text": [
      "Without type casting concept: <class 'int'>\n",
      "With type casting concept: <class 'float'>\n"
     ]
    }
   ],
   "source": [
    "'''\n",
    "--> In this lets study about type casting.\n",
    "\n",
    "-->In simple type casting is nothing but covertion from one datatype another.\n",
    "\n",
    "--> Lets consider with an Example\n",
    "\n",
    "--> Hint:- 1. In this we are going use type function to checkout type casting is applied or not.\n",
    "           2. String cannot be coverted into int or float values.\n",
    "\n",
    "'''\n",
    "a=5\n",
    "print(\"Without type casting concept:\",type(a))\n",
    "\n",
    "# we have used float to covert from int\n",
    "b=float(a)  \n",
    "print(\"With type casting concept:\",type(b))\n"
   ]
  },
  {
   "cell_type": "code",
   "execution_count": 8,
   "id": "c9f84b98",
   "metadata": {},
   "outputs": [
    {
     "name": "stdout",
     "output_type": "stream",
     "text": [
      "Without type casting concept: <class 'float'>\n",
      "applying type casting concept: <class 'int'>\n"
     ]
    }
   ],
   "source": [
    "# now float to int\n",
    "\n",
    "c=99.5\n",
    "d=int(c)\n",
    "print(\"Without type casting concept:\",type(c))\n",
    "print(\"applying type casting concept:\",type(d))"
   ]
  },
  {
   "cell_type": "code",
   "execution_count": 9,
   "id": "c44875f5",
   "metadata": {},
   "outputs": [
    {
     "ename": "ValueError",
     "evalue": "invalid literal for int() with base 10: 'kumar'",
     "output_type": "error",
     "traceback": [
      "\u001b[1;31m---------------------------------------------------------------------------\u001b[0m",
      "\u001b[1;31mValueError\u001b[0m                                Traceback (most recent call last)",
      "Input \u001b[1;32mIn [9]\u001b[0m, in \u001b[0;36m<cell line: 2>\u001b[1;34m()\u001b[0m\n\u001b[0;32m      1\u001b[0m a\u001b[38;5;241m=\u001b[39m\u001b[38;5;124m\"\u001b[39m\u001b[38;5;124mkumar\u001b[39m\u001b[38;5;124m\"\u001b[39m\n\u001b[1;32m----> 2\u001b[0m m\u001b[38;5;241m=\u001b[39m\u001b[38;5;28;43mint\u001b[39;49m\u001b[43m(\u001b[49m\u001b[43ma\u001b[49m\u001b[43m)\u001b[49m\n\u001b[0;32m      3\u001b[0m h\u001b[38;5;241m=\u001b[39m\u001b[38;5;28mfloat\u001b[39m(a)\n\u001b[0;32m      4\u001b[0m \u001b[38;5;28mprint\u001b[39m(\u001b[38;5;28mtype\u001b[39m(m))\n",
      "\u001b[1;31mValueError\u001b[0m: invalid literal for int() with base 10: 'kumar'"
     ]
    }
   ],
   "source": [
    "# This code will be error because we have already seen that str cannot convert to int or float \n",
    "\n",
    "a=\"kumar\"\n",
    "m=int(a)\n",
    "h=float(a)\n",
    "print(type(m)) #error in code follow rule above said.\n",
    "print(type(h)) #error in code follow rule above said."
   ]
  },
  {
   "cell_type": "code",
   "execution_count": null,
   "id": "657b2772",
   "metadata": {},
   "outputs": [],
   "source": []
  }
 ],
 "metadata": {
  "kernelspec": {
   "display_name": "Python 3 (ipykernel)",
   "language": "python",
   "name": "python3"
  },
  "language_info": {
   "codemirror_mode": {
    "name": "ipython",
    "version": 3
   },
   "file_extension": ".py",
   "mimetype": "text/x-python",
   "name": "python",
   "nbconvert_exporter": "python",
   "pygments_lexer": "ipython3",
   "version": "3.9.12"
  }
 },
 "nbformat": 4,
 "nbformat_minor": 5
}
