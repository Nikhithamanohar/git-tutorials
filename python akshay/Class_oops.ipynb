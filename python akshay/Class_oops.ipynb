{
 "cells": [
  {
   "cell_type": "markdown",
   "id": "1ed63cb6",
   "metadata": {},
   "source": [
    "# Creation of class \n",
    "\n",
    "\n",
    "\n",
    "lets now look at creating the class basic syntax working:-"
   ]
  },
  {
   "cell_type": "raw",
   "id": "5a24a14d",
   "metadata": {},
   "source": [
    "To create class we need to basic follow \n",
    "\n",
    "--> Try to always define Class keyword\n",
    "--> use Pass keyword if u dont want to write any parameter in that."
   ]
  },
  {
   "cell_type": "code",
   "execution_count": 1,
   "id": "0af09798",
   "metadata": {},
   "outputs": [],
   "source": [
    "# simple creation of class using above synatax\n",
    "\n",
    "\n",
    "# Note we have creating this Students class without any parameters\n",
    "\n",
    "\n",
    "class Students():\n",
    "    pass"
   ]
  },
  {
   "cell_type": "code",
   "execution_count": 2,
   "id": "9d0164b5",
   "metadata": {},
   "outputs": [],
   "source": [
    "# Now lets create a class with parameter by using self word\n",
    "\n",
    "# Basically we use __init__ because to create  a constructor to create a object \n",
    "\n",
    "# I am passing name parameter to store my name in it\n",
    "\n",
    "\n",
    "class Person():\n",
    "    def __init__(self,name):\n",
    "        \n",
    "        self.name=name\n",
    "        \n",
    "        \n",
    "# Now i am trying to create a function to display my name:-\n",
    "\n",
    "    def display_info(self):\n",
    "        print(f\"Name is : {self.name}\")"
   ]
  },
  {
   "cell_type": "code",
   "execution_count": 3,
   "id": "9987e05e",
   "metadata": {},
   "outputs": [],
   "source": [
    "# Now creating the object from class\n",
    "\n",
    "Person1=Person(\"Akshay\")  # now passing Argument as Akshay "
   ]
  },
  {
   "cell_type": "code",
   "execution_count": 4,
   "id": "7f759c13",
   "metadata": {},
   "outputs": [
    {
     "name": "stdout",
     "output_type": "stream",
     "text": [
      "Name is : Akshay\n"
     ]
    }
   ],
   "source": [
    "# Now Person1 object has stored Akshay in it now lets print the output by calling fuction with refer of object\n",
    "\n",
    "Person1.display_info()"
   ]
  },
  {
   "cell_type": "code",
   "execution_count": null,
   "id": "ac964ec9",
   "metadata": {},
   "outputs": [],
   "source": []
  }
 ],
 "metadata": {
  "kernelspec": {
   "display_name": "Python 3 (ipykernel)",
   "language": "python",
   "name": "python3"
  },
  "language_info": {
   "codemirror_mode": {
    "name": "ipython",
    "version": 3
   },
   "file_extension": ".py",
   "mimetype": "text/x-python",
   "name": "python",
   "nbconvert_exporter": "python",
   "pygments_lexer": "ipython3",
   "version": "3.9.12"
  }
 },
 "nbformat": 4,
 "nbformat_minor": 5
}
