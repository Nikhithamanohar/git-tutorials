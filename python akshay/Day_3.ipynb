{
 "cells": [
  {
   "cell_type": "markdown",
   "id": "99e8d230",
   "metadata": {},
   "source": [
    "# Day-3"
   ]
  },
  {
   "cell_type": "raw",
   "id": "48c496c2",
   "metadata": {},
   "source": [
    "Now in this day-3 we are going to study about list concept."
   ]
  },
  {
   "cell_type": "markdown",
   "id": "a08c41fc",
   "metadata": {},
   "source": [
    "# Lists"
   ]
  },
  {
   "cell_type": "code",
   "execution_count": 1,
   "id": "c7d98189",
   "metadata": {},
   "outputs": [
    {
     "name": "stdout",
     "output_type": "stream",
     "text": [
      "<class 'list'>\n"
     ]
    }
   ],
   "source": [
    "# Lists are used to store multiple items in a single variable.\n",
    "a=['Akshay','Kumar',3]\n",
    "print(type(a))"
   ]
  },
  {
   "cell_type": "code",
   "execution_count": 1,
   "id": "8e5370c2",
   "metadata": {},
   "outputs": [
    {
     "name": "stdout",
     "output_type": "stream",
     "text": [
      "7\n"
     ]
    }
   ],
   "source": [
    "# Items are indexed, the first item has index [0], the second item has index [1] etc.\n",
    "b=[2,7,9]\n",
    "print(b[1])"
   ]
  },
  {
   "cell_type": "code",
   "execution_count": 3,
   "id": "ea6f639d",
   "metadata": {},
   "outputs": [
    {
     "name": "stdout",
     "output_type": "stream",
     "text": [
      "3\n"
     ]
    }
   ],
   "source": [
    "print(len(b)) #len function is used "
   ]
  },
  {
   "cell_type": "code",
   "execution_count": 6,
   "id": "71ec94d9",
   "metadata": {},
   "outputs": [
    {
     "name": "stdout",
     "output_type": "stream",
     "text": [
      "[1, 3, 4, 5, 'ak']\n",
      "[4, 5, 'ak']\n",
      "[4, 5]\n",
      "5\n"
     ]
    }
   ],
   "source": [
    "# using indexing concept now lets go head and see \n",
    "\n",
    "a=[1,3,4,5,'ak']\n",
    "\n",
    "print(a[0:])# this tells that starting from 0 to last n index is accesed.\n",
    "\n",
    "print(a[2:])# this tells that starting from 2 to last n index is accesed. \n",
    "\n",
    "\n",
    "print(a[2:4]) # This tells that starting from 2 to last 4th index is accesed. \n",
    "print(a[-2]) # starting from negative index left to Right."
   ]
  },
  {
   "cell_type": "markdown",
   "id": "45dc644d",
   "metadata": {},
   "source": [
    "# Change Item Value"
   ]
  },
  {
   "cell_type": "raw",
   "id": "647834f0",
   "metadata": {},
   "source": [
    "To change the value of a specific item, refer to the index number :-"
   ]
  },
  {
   "cell_type": "code",
   "execution_count": 7,
   "id": "208a4908",
   "metadata": {},
   "outputs": [
    {
     "name": "stdout",
     "output_type": "stream",
     "text": [
      "[1, 3, 5]\n"
     ]
    }
   ],
   "source": [
    "a=[1,4,5]\n",
    "a[1]=3    # By using index specific we can change value.\n",
    "print(a)"
   ]
  },
  {
   "cell_type": "markdown",
   "id": "56828f71",
   "metadata": {},
   "source": [
    "# Insert Items"
   ]
  },
  {
   "cell_type": "raw",
   "id": "92a38089",
   "metadata": {},
   "source": [
    "To insert a new list item, without replacing any of the existing values,\n",
    "we can use the insert() method.\n",
    "The insert() method inserts an item at the specified index:-"
   ]
  },
  {
   "cell_type": "code",
   "execution_count": 8,
   "id": "d5869278",
   "metadata": {},
   "outputs": [
    {
     "name": "stdout",
     "output_type": "stream",
     "text": [
      "['apple', 'banana', 'watermelon', 'cherry']\n"
     ]
    }
   ],
   "source": [
    "b=[\"apple\", \"banana\", \"cherry\"]\n",
    "b.insert(2, \"watermelon\") # Insertion of watermelon at index 2\n",
    "print(b)"
   ]
  },
  {
   "cell_type": "code",
   "execution_count": 9,
   "id": "8da9bdcc",
   "metadata": {},
   "outputs": [
    {
     "name": "stdout",
     "output_type": "stream",
     "text": [
      "['apple', 'banana']\n"
     ]
    }
   ],
   "source": [
    "b=[\"apple\", \"banana\", \"cherry\"]\n",
    "b.pop(2) # i have remove an element cheery from index 2  \n",
    "print(b)"
   ]
  },
  {
   "cell_type": "markdown",
   "id": "c83ae7d0",
   "metadata": {},
   "source": [
    "# Append Items\n",
    "\n",
    "To add an item to the end of the list, use the append() method"
   ]
  },
  {
   "cell_type": "code",
   "execution_count": 10,
   "id": "82410ab8",
   "metadata": {},
   "outputs": [
    {
     "name": "stdout",
     "output_type": "stream",
     "text": [
      "['apple', 'banana', 'cherry', 'orange']\n"
     ]
    }
   ],
   "source": [
    "l=[\"apple\", \"banana\", \"cherry\"]\n",
    "l.append(\"orange\")\n",
    "print(l)"
   ]
  },
  {
   "cell_type": "code",
   "execution_count": null,
   "id": "52120519",
   "metadata": {},
   "outputs": [],
   "source": []
  }
 ],
 "metadata": {
  "kernelspec": {
   "display_name": "Python 3 (ipykernel)",
   "language": "python",
   "name": "python3"
  },
  "language_info": {
   "codemirror_mode": {
    "name": "ipython",
    "version": 3
   },
   "file_extension": ".py",
   "mimetype": "text/x-python",
   "name": "python",
   "nbconvert_exporter": "python",
   "pygments_lexer": "ipython3",
   "version": "3.9.12"
  }
 },
 "nbformat": 4,
 "nbformat_minor": 5
}
