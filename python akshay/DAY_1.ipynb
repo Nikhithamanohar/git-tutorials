{
 "cells": [
  {
   "cell_type": "markdown",
   "id": "abfc54bd",
   "metadata": {},
   "source": [
    "# Day-1 "
   ]
  },
  {
   "cell_type": "markdown",
   "id": "9d7ead8f",
   "metadata": {},
   "source": [
    "lets start about basic python in this day cheat's sheet"
   ]
  },
  {
   "cell_type": "raw",
   "id": "ba4728c6",
   "metadata": {},
   "source": [
    "# lets disscuss about first uses of python \n",
    "--> major uses of python are \n",
    "1.In  machine learning\n",
    "2.In Artifical intelligence\n",
    "3.Deep Learning\n",
    "4.NLP(Natural Language Processing)\n",
    "5.Daily life resource in (Robots) "
   ]
  },
  {
   "cell_type": "raw",
   "id": "32ea36b3",
   "metadata": {},
   "source": [
    "# Before going to Hello world lets see datatypes first and lets go now\n",
    "\n",
    "1.string--> also denoted by (\" \") or (' ') only.\n",
    "2.integer --> only number cannot contain point values. eg:- 2\n",
    "3.float --> it has only point values eg:-2.5\n",
    "4.complex --> real number eg:- 2+3j\n",
    "5.boolean --> true or false"
   ]
  },
  {
   "cell_type": "code",
   "execution_count": 1,
   "id": "2acddfcd",
   "metadata": {},
   "outputs": [
    {
     "name": "stdout",
     "output_type": "stream",
     "text": [
      "hello world\n"
     ]
    }
   ],
   "source": [
    "#Now lets start with hello world program\n",
    "\n",
    "print(\"hello world\")  #we use (print) for printing output on the screen "
   ]
  },
  {
   "cell_type": "code",
   "execution_count": 2,
   "id": "7da3582e",
   "metadata": {},
   "outputs": [
    {
     "name": "stdout",
     "output_type": "stream",
     "text": [
      "<class 'complex'>\n"
     ]
    }
   ],
   "source": [
    "# lets look at complex Example:-\n",
    "\n",
    "a=2+3j\n",
    "print(type(a)) # in this we have used (type) function for to know which datatype its belong"
   ]
  },
  {
   "cell_type": "code",
   "execution_count": 1,
   "id": "c7cab5b6",
   "metadata": {},
   "outputs": [
    {
     "name": "stdout",
     "output_type": "stream",
     "text": [
      "<class 'int'>\n"
     ]
    }
   ],
   "source": [
    "# integer data type Example:-\n",
    "\n",
    "b=2\n",
    "print(type(b))"
   ]
  },
  {
   "cell_type": "code",
   "execution_count": 5,
   "id": "bd9400ca",
   "metadata": {},
   "outputs": [
    {
     "name": "stdout",
     "output_type": "stream",
     "text": [
      "<class 'str'>\n",
      "<class 'str'>\n"
     ]
    }
   ],
   "source": [
    "#string data type Example:-\n",
    "\n",
    "a=\"AKSHAY\"\n",
    "b='kumar'\n",
    "print(type(a))\n",
    "print(type(b))"
   ]
  },
  {
   "cell_type": "code",
   "execution_count": 6,
   "id": "f7c88a9d",
   "metadata": {},
   "outputs": [
    {
     "name": "stdout",
     "output_type": "stream",
     "text": [
      "<class 'float'>\n"
     ]
    }
   ],
   "source": [
    "# float data type Example:-\n",
    "\n",
    "i=99.5\n",
    "print(type(i))"
   ]
  },
  {
   "cell_type": "code",
   "execution_count": 8,
   "id": "ade2fc89",
   "metadata": {},
   "outputs": [
    {
     "name": "stdout",
     "output_type": "stream",
     "text": [
      "<class 'bool'>\n",
      "False\n"
     ]
    }
   ],
   "source": [
    "# bool data type Example:-\n",
    "\n",
    "c=3\n",
    "d=4\n",
    "f=c==d #In this actually i have taken c and d variable values and stored in f and i checked the condition are they True or False \n",
    "print(type(f))# for data type refer i have used type\n",
    "print(f)# this for actual output result i have used."
   ]
  },
  {
   "cell_type": "markdown",
   "id": "c20ed43d",
   "metadata": {},
   "source": [
    "# Variables"
   ]
  },
  {
   "cell_type": "raw",
   "id": "8514e3de",
   "metadata": {},
   "source": [
    "-->Now lets understand how variables works in this storing of values in they memory\n",
    "\n",
    "-->For Delecartion of varaiables we have some rules need to follow \n",
    "lets see them each now\n",
    "\n",
    "1.Variable cannot start with number.\n",
    "2.variable can have underscore\n",
    "3.its is case senstive in nature\n",
    "4.Variables can be assigned from a to z ,A to Z , 0 to 9 \n",
    "5.A variable cannot start with or assign a keyword to it. "
   ]
  },
  {
   "cell_type": "code",
   "execution_count": 9,
   "id": "4379f040",
   "metadata": {},
   "outputs": [
    {
     "ename": "SyntaxError",
     "evalue": "cannot assign to literal (1237698995.py, line 4)",
     "output_type": "error",
     "traceback": [
      "\u001b[1;36m  Input \u001b[1;32mIn [9]\u001b[1;36m\u001b[0m\n\u001b[1;33m    5=10  # cannot start with number soo this may be lead to error in code.\u001b[0m\n\u001b[1;37m    ^\u001b[0m\n\u001b[1;31mSyntaxError\u001b[0m\u001b[1;31m:\u001b[0m cannot assign to literal\n"
     ]
    }
   ],
   "source": [
    "# Now lets start this variable concept with this above rules by following it.\n",
    "\n",
    "a=5   # this accepted because started with alphabet.\n",
    "5=10  # cannot start with number soo this may be lead to error in code.\n",
    "b_=20 # this acceptable because underscore is allowed in this.\n",
    "Age=45 # this also vaild. Hint:- in this (A) is uppercase \n",
    "age=25 # this also still vaild because case-senstive in nature. hint:- in this (a) letter is smaller case\n",
    "\n",
    "\n",
    "print(a,b_,Age,age,5)"
   ]
  },
  {
   "cell_type": "code",
   "execution_count": 11,
   "id": "52e8de1b",
   "metadata": {},
   "outputs": [
    {
     "name": "stdout",
     "output_type": "stream",
     "text": [
      "this statement of 5,This statement of 20, statement of 3rd 45, This statement 4rd 25.\n"
     ]
    }
   ],
   "source": [
    "# Now lets start this variable concept with this above rules by following it.\n",
    "\n",
    "a=5   # this accepted because started with alphabet.\n",
    "#5=10  # cannot start with number soo this may be lead to error in code.\n",
    "b_=20 # this acceptable because underscore is allowed in this.\n",
    "Age=45 # this also vaild. Hint:- in this (A) is uppercase \n",
    "age=25 # this also still vaild because case-senstive in nature. hint:- in this (a) letter is smaller case\n",
    "\n",
    "\n",
    "print(f\"this statement of {a},This statement of {b_}, statement of 3rd {Age}, This statement 4rd {age}.\")"
   ]
  },
  {
   "cell_type": "code",
   "execution_count": 18,
   "id": "0a729887",
   "metadata": {},
   "outputs": [
    {
     "name": "stdout",
     "output_type": "stream",
     "text": [
      "concatenation of two Strings is: akshaykumar\n"
     ]
    }
   ],
   "source": [
    "# concatenation of two Strings\n",
    "\n",
    "a=\"akshay\"\n",
    "b=\"kumar\"\n",
    "c=a+b\n",
    "print(\"concatenation of two Strings is:\",c)"
   ]
  },
  {
   "cell_type": "code",
   "execution_count": 2,
   "id": "d3c9d497",
   "metadata": {},
   "outputs": [
    {
     "name": "stdout",
     "output_type": "stream",
     "text": [
      "Upper case convert is: AKSHAY KUMAR\n",
      "Lower case convert is: the boss\n",
      "split: ['Akshay', 'Kumar']\n",
      "finding is letter: 3\n",
      "indexing is letter: 5\n"
     ]
    }
   ],
   "source": [
    "# Now let look more details about variables in more details\n",
    "\n",
    "s=\"Akshay Kumar\"\n",
    "\n",
    "\n",
    "\n",
    "o=\"the Boss\"\n",
    "\n",
    "u=s.upper() # In this We used pre-defined  upper fuction to covert lower to upper-case. \n",
    "\n",
    "h=o.lower()  # In this We used pre-defined  upper fuction to covert upper-case to lower-case.\n",
    "\n",
    "i=s.split() # In this String is split into parts.\n",
    "m=s.find('h') # finding specific letter position number stored in variable.\n",
    "p=s.index('y')# usually indexing start from 0 to n so in s variable hint:- A-->0,k-->1,s-->2,h-->3,a-->4,y-->5.\n",
    "\n",
    "\n",
    "print(\"Upper case convert is:\",u)\n",
    "print(\"Lower case convert is:\",h)\n",
    "print(\"split:\",i)\n",
    "print(\"finding is letter:\",m)\n",
    "print(\"indexing is letter:\",p)"
   ]
  },
  {
   "cell_type": "code",
   "execution_count": null,
   "id": "bd214152",
   "metadata": {},
   "outputs": [],
   "source": []
  }
 ],
 "metadata": {
  "kernelspec": {
   "display_name": "Python 3 (ipykernel)",
   "language": "python",
   "name": "python3"
  },
  "language_info": {
   "codemirror_mode": {
    "name": "ipython",
    "version": 3
   },
   "file_extension": ".py",
   "mimetype": "text/x-python",
   "name": "python",
   "nbconvert_exporter": "python",
   "pygments_lexer": "ipython3",
   "version": "3.9.12"
  }
 },
 "nbformat": 4,
 "nbformat_minor": 5
}
